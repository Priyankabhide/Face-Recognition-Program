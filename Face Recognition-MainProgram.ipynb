{
 "cells": [
  {
   "cell_type": "markdown",
   "id": "f49a4cea",
   "metadata": {},
   "source": [
    "# FACE RECOGNITION PROGRAM"
   ]
  },
  {
   "cell_type": "markdown",
   "id": "48a04437",
   "metadata": {},
   "source": [
    "## Step-1 : Collection of dataset for training"
   ]
  },
  {
   "cell_type": "code",
   "execution_count": 1,
   "id": "816a9b7c",
   "metadata": {},
   "outputs": [
    {
     "name": "stderr",
     "output_type": "stream",
     "text": [
      "<>:15: SyntaxWarning: \"is\" with a literal. Did you mean \"==\"?\n",
      "<>:15: SyntaxWarning: \"is\" with a literal. Did you mean \"==\"?\n",
      "<ipython-input-1-46d7c19d2df9>:15: SyntaxWarning: \"is\" with a literal. Did you mean \"==\"?\n",
      "  if faces is ():\n"
     ]
    }
   ],
   "source": [
    "import cv2\n",
    "import numpy as np\n",
    "\n",
    "# Load HAAR face classifier\n",
    "face_classifier = cv2.CascadeClassifier('haarcascade_frontalface_default.xml')\n",
    "\n",
    "# Load functions\n",
    "def face_extractor(img):\n",
    "    # Function detects faces and returns the cropped face\n",
    "    # If no face detected, it returns the input image\n",
    "    \n",
    "    gray = cv2.cvtColor(img,cv2.COLOR_BGR2GRAY)\n",
    "    faces = face_classifier.detectMultiScale(gray, 1.3, 5)\n",
    "    \n",
    "    if faces is ():\n",
    "        return None\n",
    "    \n",
    "    # Crop all faces found\n",
    "    for (x,y,w,h) in faces:\n",
    "        cropped_face = img[y:y+h, x:x+w]\n",
    "\n",
    "    return cropped_face"
   ]
  },
  {
   "cell_type": "markdown",
   "id": "8942a9f6",
   "metadata": {},
   "source": [
    "#### Collecting 100 samples of 1st user face from webcam input"
   ]
  },
  {
   "cell_type": "code",
   "execution_count": 2,
   "id": "c2eabdb1",
   "metadata": {},
   "outputs": [
    {
     "name": "stdout",
     "output_type": "stream",
     "text": [
      "Collecting Samples of user 1 Completed..!\n"
     ]
    }
   ],
   "source": [
    "# Initialize Webcam\n",
    "\n",
    "cap = cv2.VideoCapture(0)\n",
    "count = 0\n",
    "\n",
    "while True:\n",
    "\n",
    "    ret, frame = cap.read()\n",
    "    if face_extractor(frame) is not None:\n",
    "        count += 1\n",
    "        face = cv2.resize(face_extractor(frame), (200, 200))\n",
    "        face = cv2.cvtColor(face, cv2.COLOR_BGR2GRAY)\n",
    "\n",
    "        # Save file in specified directory with unique name\n",
    "        file_name_path = './sampleface/me/' + str(count) + '.jpg'\n",
    "        cv2.imwrite(file_name_path, face)\n",
    "\n",
    "        # Put count on images and display live count\n",
    "        cv2.putText(face, str(count), (50, 50), cv2.FONT_HERSHEY_COMPLEX, 1, (0,255,0), 2)\n",
    "        cv2.imshow('Face Cropper', face)\n",
    "        \n",
    "    else:\n",
    "        print(\"Face not found\")\n",
    "        pass\n",
    "\n",
    "    if cv2.waitKey(1) == 13 or count == 100: #13 is the Enter Key\n",
    "        break\n",
    "        \n",
    "cap.release()\n",
    "cv2.destroyAllWindows()      \n",
    "print(\"Collecting Samples of user 1 Completed..!\")"
   ]
  },
  {
   "cell_type": "markdown",
   "id": "419fe06f",
   "metadata": {},
   "source": [
    "#### Collecting 100 samples of 2nd user face from webcam input"
   ]
  },
  {
   "cell_type": "code",
   "execution_count": 3,
   "id": "49aea55f",
   "metadata": {},
   "outputs": [
    {
     "name": "stdout",
     "output_type": "stream",
     "text": [
      "Face not found\n",
      "Face not found\n",
      "Collecting Samples of user 2 Completed\n"
     ]
    }
   ],
   "source": [
    "# Initialize Webcam\n",
    "\n",
    "cap = cv2.VideoCapture(0)\n",
    "count = 0\n",
    "\n",
    "while True:\n",
    "\n",
    "    ret, frame = cap.read()\n",
    "    if face_extractor(frame) is not None:\n",
    "        count += 1\n",
    "        face = cv2.resize(face_extractor(frame), (200, 200))\n",
    "        face = cv2.cvtColor(face, cv2.COLOR_BGR2GRAY)\n",
    "\n",
    "        # Save file in specified directory with unique name\n",
    "        file_name_path = './sampleface/f1/' + str(count) + '.jpg'\n",
    "        cv2.imwrite(file_name_path, face)\n",
    "\n",
    "        # Put count on images and display live count\n",
    "        cv2.putText(face, str(count), (50, 50), cv2.FONT_HERSHEY_COMPLEX, 1, (0,255,0), 2)\n",
    "        cv2.imshow('Face Cropper', face)\n",
    "        \n",
    "    else:\n",
    "        print(\"Face not found\")\n",
    "        pass\n",
    "\n",
    "    if cv2.waitKey(1) == 13 or count == 100: #13 is the Enter Key\n",
    "        break\n",
    "        \n",
    "cap.release()\n",
    "cv2.destroyAllWindows()      \n",
    "print(\"Collecting Samples of user 2 Completed\")"
   ]
  },
  {
   "cell_type": "code",
   "execution_count": 4,
   "id": "89b21a4d",
   "metadata": {},
   "outputs": [],
   "source": [
    "cap.release()"
   ]
  },
  {
   "cell_type": "markdown",
   "id": "cbfe1790",
   "metadata": {},
   "source": [
    "## Step-2 : Training the model"
   ]
  },
  {
   "cell_type": "code",
   "execution_count": 6,
   "id": "e6424c2d",
   "metadata": {},
   "outputs": [],
   "source": [
    "import cv2\n",
    "import numpy as np\n",
    "from os import listdir\n",
    "from os.path import isfile, join"
   ]
  },
  {
   "cell_type": "markdown",
   "id": "d9289efa",
   "metadata": {},
   "source": [
    "### Model-1"
   ]
  },
  {
   "cell_type": "code",
   "execution_count": 7,
   "id": "47de1536",
   "metadata": {},
   "outputs": [
    {
     "name": "stdout",
     "output_type": "stream",
     "text": [
      "1st Model trained sucessefully\n"
     ]
    }
   ],
   "source": [
    "# Get the training data we previously made\n",
    "data_path = './sampleface/me/'\n",
    "onlyfiles = [f for f in listdir(data_path) if isfile(join(data_path, f))]\n",
    "\n",
    "# Create arrays for training data and labels\n",
    "Training_Data, Labels = [], []\n",
    "\n",
    "# Open training images in our datapath\n",
    "# Create a numpy array for training data\n",
    "for i, files in enumerate(onlyfiles):\n",
    "    image_path = data_path + onlyfiles[i]\n",
    "    images = cv2.imread(image_path, cv2.IMREAD_GRAYSCALE)\n",
    "    Training_Data.append(np.asarray(images, dtype=np.uint8))\n",
    "    Labels.append(i)\n",
    "\n",
    "# Create a numpy array for both training data and labels\n",
    "Labels = np.asarray(Labels, dtype=np.int32)\n",
    "\n",
    "# Initialize facial recognizer\n",
    "# model = cv2.face.createLBPHFaceRecognizer()\n",
    "# NOTE: For OpenCV 3.0 use cv2.face.createLBPHFaceRecognizer()\n",
    "# pip install opencv-contrib-python\n",
    "# model = cv2.createLBPHFaceRecognizer()\n",
    "\n",
    "pri_model = cv2.face_LBPHFaceRecognizer.create()\n",
    "# Let's train our model \n",
    "pri_model.train(np.asarray(Training_Data), np.asarray(Labels))\n",
    "print(\"1st Model trained sucessefully\")"
   ]
  },
  {
   "cell_type": "markdown",
   "id": "06ce3210",
   "metadata": {},
   "source": [
    "### Model-2"
   ]
  },
  {
   "cell_type": "code",
   "execution_count": 8,
   "id": "7ab9820d",
   "metadata": {},
   "outputs": [
    {
     "name": "stdout",
     "output_type": "stream",
     "text": [
      "2nd Model trained sucessefully\n"
     ]
    }
   ],
   "source": [
    "# Get the training data we previously made\n",
    "data_path = './sampleface/f1/'\n",
    "onlyfiles = [f for f in listdir(data_path) if isfile(join(data_path, f))]\n",
    "\n",
    "# Create arrays for training data and labels\n",
    "Training_Data, Labels = [], []\n",
    "\n",
    "# Open training images in our datapath\n",
    "# Create a numpy array for training data\n",
    "for i, files in enumerate(onlyfiles):\n",
    "    image_path = data_path + onlyfiles[i]\n",
    "    images = cv2.imread(image_path, cv2.IMREAD_GRAYSCALE)\n",
    "    Training_Data.append(np.asarray(images, dtype=np.uint8))\n",
    "    Labels.append(i)\n",
    "\n",
    "# Create a numpy array for both training data and labels\n",
    "Labels = np.asarray(Labels, dtype=np.int32)\n",
    "\n",
    "# Initialize facial recognizer\n",
    "# model = cv2.face.createLBPHFaceRecognizer()\n",
    "# NOTE: For OpenCV 3.0 use cv2.face.createLBPHFaceRecognizer()\n",
    "# pip install opencv-contrib-python\n",
    "# model = cv2.createLBPHFaceRecognizer()\n",
    "\n",
    "g_model = cv2.face_LBPHFaceRecognizer.create()\n",
    "# Let's train our model \n",
    "g_model.train(np.asarray(Training_Data), np.asarray(Labels))\n",
    "print(\"2nd Model trained sucessefully\")"
   ]
  },
  {
   "cell_type": "markdown",
   "id": "1021f9c1",
   "metadata": {},
   "source": [
    "## Step-3 : Executing Face Recognition"
   ]
  },
  {
   "cell_type": "code",
   "execution_count": 9,
   "id": "2eb0811a",
   "metadata": {},
   "outputs": [
    {
     "name": "stderr",
     "output_type": "stream",
     "text": [
      "<>:14: SyntaxWarning: \"is\" with a literal. Did you mean \"==\"?\n",
      "<>:14: SyntaxWarning: \"is\" with a literal. Did you mean \"==\"?\n",
      "<ipython-input-9-18e7f2196543>:14: SyntaxWarning: \"is\" with a literal. Did you mean \"==\"?\n",
      "  if faces is ():\n"
     ]
    }
   ],
   "source": [
    "import cv2\n",
    "import numpy as np\n",
    "import os\n",
    "import time\n",
    "import run \n",
    "\n",
    "face_classifier = cv2.CascadeClassifier('haarcascade_frontalface_default.xml')\n",
    "\n",
    "def face_detector(img, size=0.5):\n",
    "    \n",
    "    # Convert image to grayscale\n",
    "    gray = cv2.cvtColor(img,cv2.COLOR_BGR2GRAY)\n",
    "    faces = face_classifier.detectMultiScale(gray, 1.3, 5)\n",
    "    if faces is ():\n",
    "        return img, []\n",
    "    \n",
    "    for (x,y,w,h) in faces:\n",
    "        cv2.rectangle(img,(x,y),(x+w,y+h),(0,255,255),2)\n",
    "        roi = img[y:y+h, x:x+w]\n",
    "        roi = cv2.resize(roi, (200, 200))\n",
    "    return img, roi\n"
   ]
  },
  {
   "cell_type": "code",
   "execution_count": 11,
   "id": "99681b47",
   "metadata": {},
   "outputs": [
    {
     "name": "stdout",
     "output_type": "stream",
     "text": [
      "Executing terraform script...\n",
      "Terraform initiallized...\n",
      "Your AWS infrastructure has been created.Open AWS console to verify your instance!\n"
     ]
    }
   ],
   "source": [
    "cap = cv2.VideoCapture(0)\n",
    "a = False\n",
    "\n",
    "while True:\n",
    "    ret, frame = cap.read()\n",
    "    image, face = face_detector(frame)\n",
    "    try:\n",
    "        face = cv2.cvtColor(face, cv2.COLOR_BGR2GRAY)\n",
    "        # Pass face to prediction model\n",
    "        # \"results\" comprises of a tuple containing the label and the confidence value\n",
    "        \n",
    "        #lOADING 2 models at same time and asking them to predict\n",
    "        \n",
    "        res1 = pri_model.predict(face)\n",
    "        res2 = g_model.predict(face)\n",
    "        \n",
    "        if res1[1] < 500:\n",
    "            confidence1 = int(100 * (1 - (res1[1])/400) )\n",
    "            display_string = str(confidence1) + '% Confident it is user'\n",
    "            \n",
    "        if res2[1] < 500:\n",
    "            confidence2 = int(100 * (1 - (res2[1])/400) )\n",
    "            display_string = str(confidence2) + '% Confident it is user'\n",
    "            \n",
    "        cv2.putText(image, display_string, (100, 120), cv2.FONT_HERSHEY_COMPLEX, 1, (255,120), 2)\n",
    "        \n",
    "        if confidence1 > 90:\n",
    "            cv2.putText(image, \"Hey priyanka\", (250, 450), cv2.FONT_HERSHEY_COMPLEX, 1, (255,120,150), 2)\n",
    "            cv2.imshow('Face Recognition', image )\n",
    "            cv2.imwrite('face.jpg' , image)\n",
    "            a = 1\n",
    "            \n",
    "            # run.mail()\n",
    "            # run.whatsapp()\n",
    "            break\n",
    "            \n",
    "        if confidence2 > 90:\n",
    "            cv2.putText(image, \"Hey Golu\", (250, 450), cv2.FONT_HERSHEY_COMPLEX, 1, (255,120,150), 2)\n",
    "            cv2.imshow('Face Recognition', image )\n",
    "            cv2.imwrite('face.jpg' , image)\n",
    "            a = 2\n",
    "            \n",
    "            # run.ec2Instance()\n",
    "            break\n",
    "            \n",
    "        else:\n",
    "            cv2.putText(image, \"I dont know, who are you?\", (250, 450), cv2.FONT_HERSHEY_COMPLEX, 1, (0,0,255), 2)\n",
    "            cv2.imshow('Face Recognition', image ) \n",
    "    except:\n",
    "        cv2.putText(image, \"No Face Found\", (220, 120) , cv2.FONT_HERSHEY_COMPLEX, 1, (0,0,255), 2)\n",
    "        cv2.putText(image, \"looking for face\", (250, 450), cv2.FONT_HERSHEY_COMPLEX, 1, (0,0,255), 2)\n",
    "        cv2.imshow('Face Recognition', image )\n",
    "        pass\n",
    "    \n",
    "    if cv2.waitKey(1) == 13: #13 is the enter key\n",
    "        break\n",
    "        \n",
    "cap.release()\n",
    "cv2.destroyAllWindows()   \n",
    "\n",
    "if a == 1 :\n",
    "    run.mail()\n",
    "    time.sleep(10)\n",
    "    run.whatsapp()    \n",
    "    \n",
    "elif a == 2:\n",
    "    print(\"Executing terraform script...\")\n",
    "    time.sleep(5)\n",
    "    print(\"Terraform initiallized...\")\n",
    "    run.ec2Instnce()\n",
    "    time.sleep(10)\n",
    "    print(\"Your AWS infrastructure has been created.Open AWS console to verify your instance!\")\n",
    "    \n",
    "    \n",
    "else:\n",
    "    pass     "
   ]
  },
  {
   "cell_type": "code",
   "execution_count": null,
   "id": "3ad447a2",
   "metadata": {},
   "outputs": [],
   "source": []
  }
 ],
 "metadata": {
  "kernelspec": {
   "display_name": "Python 3",
   "language": "python",
   "name": "python3"
  },
  "language_info": {
   "codemirror_mode": {
    "name": "ipython",
    "version": 3
   },
   "file_extension": ".py",
   "mimetype": "text/x-python",
   "name": "python",
   "nbconvert_exporter": "python",
   "pygments_lexer": "ipython3",
   "version": "3.8.8"
  }
 },
 "nbformat": 4,
 "nbformat_minor": 5
}
